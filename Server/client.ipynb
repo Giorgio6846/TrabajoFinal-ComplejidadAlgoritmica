{
 "cells": [
  {
   "cell_type": "code",
   "execution_count": 13,
   "metadata": {},
   "outputs": [
    {
     "name": "stdout",
     "output_type": "stream",
     "text": [
      "Connecting to hello world server…\n",
      "{'distritos': []}\n"
     ]
    }
   ],
   "source": [
    "from re import M\n",
    "from numpy import sort\n",
    "import zmq\n",
    "import json\n",
    "\n",
    "context = zmq.Context()\n",
    "\n",
    "#  Socket to talk to server\n",
    "print(\"Connecting to hello world server…\")\n",
    "socket = context.socket(zmq.REQ)\n",
    "socket.connect(\"tcp://localhost:5555\")\n",
    "\n",
    "messageServer = json.dumps(\n",
    "    {\n",
    "        \"type\": \"listDistrito\",\n",
    "        \"Departamento\": \"Amazonas\",\n",
    "        \"Provincia\": \"Bagua\",\n",
    "        \"Distrito\": \"NULL\",\n",
    "    }\n",
    ")\n",
    "\n",
    "socket.send_string(messageServer)\n",
    "message = socket.recv_json()\n",
    "print(message)"
   ]
  },
  {
   "cell_type": "code",
   "execution_count": 10,
   "metadata": {},
   "outputs": [
    {
     "name": "stdout",
     "output_type": "stream",
     "text": [
      "{'provincias': ['Bagua', 'Bongara', 'Chachapoyas', 'Condorcanqui', 'Luya', 'Rodriguez de mendoza', 'Utcubamba']}\n"
     ]
    }
   ],
   "source": [
    "\n"
   ]
  },
  {
   "cell_type": "code",
   "execution_count": null,
   "metadata": {},
   "outputs": [],
   "source": [
    "#  Do 10 requests, waiting each time for a response\n",
    "for request in range(10):\n",
    "    print(f\"Sending request {request} …\")\n",
    "    socket.send_json(messageServer)\n",
    "\n",
    "    #  Get the reply.\n",
    "    message = socket.recv_json()\n",
    "    print(f\"Received reply {request} [ {message} ]\")"
   ]
  }
 ],
 "metadata": {
  "kernelspec": {
   "display_name": "CA2",
   "language": "python",
   "name": "python3"
  },
  "language_info": {
   "codemirror_mode": {
    "name": "ipython",
    "version": 3
   },
   "file_extension": ".py",
   "mimetype": "text/x-python",
   "name": "python",
   "nbconvert_exporter": "python",
   "pygments_lexer": "ipython3",
   "version": "3.11.5"
  }
 },
 "nbformat": 4,
 "nbformat_minor": 2
}
