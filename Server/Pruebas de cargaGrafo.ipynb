{
 "cells": [
  {
   "cell_type": "code",
   "execution_count": 72,
   "metadata": {},
   "outputs": [],
   "source": [
    "import pandas as pd\n",
    "import networkx as nx\n",
    "\n",
    "nombrePais = \"Pais.Peru\"\n",
    "\n",
    "df = pd.read_csv(\"../Generador/Dataframe.csv\", index_col = False)\n",
    "df = df.drop(columns=[\"Unnamed: 0\"])"
   ]
  },
  {
   "cell_type": "code",
   "execution_count": 73,
   "metadata": {},
   "outputs": [],
   "source": [
    "def accessDireccion(dataframeDistrito, Grafo, distrito):\n",
    "    for index, row in dataframeDistrito.iterrows():\n",
    "            nombreDistrito = \"Distrito.\" + str(distrito)\n",
    "        \n",
    "            direccion = row[\"direccion\"]\n",
    "            \n",
    "            Grafo.add_node(direccion, **row.to_dict())\n",
    "            #Grafo.nodes[direccion].update(row.to_dict())\n",
    "            \n",
    "            Grafo.add_edge(nombreDistrito, direccion)"
   ]
  },
  {
   "cell_type": "code",
   "execution_count": 74,
   "metadata": {},
   "outputs": [],
   "source": [
    "def accessDistrito(dfProvincia, Grafo, provincia):\n",
    "    Distritos = list(dfProvincia[\"distrito\"].unique())\n",
    "    \n",
    "    for distrito in Distritos: \n",
    "        dfDistrito = dfProvincia.iloc[list(dfProvincia[\"distrito\"] == distrito)]\n",
    "                \n",
    "        nombreProvincia = \"Provincia.\" + str(provincia)\n",
    "        nombreDistrito = \"Distrito.\" + str(distrito)\n",
    "        \n",
    "        Grafo.add_node(nombreDistrito, **{\"provincia\": provincia})\n",
    "        #Grafo.nodes[nombreDistrito]['provincia'].update(provincia)\n",
    "        \n",
    "        Grafo.add_edge(nombreProvincia, nombreDistrito)\n",
    "        accessDireccion(dfDistrito, Grafo, distrito)"
   ]
  },
  {
   "cell_type": "code",
   "execution_count": 75,
   "metadata": {},
   "outputs": [],
   "source": [
    "def accessProvincia(dfDepartamento, Grafo, departamento):\n",
    "    Provincias = list(dfDepartamento[\"provincia\"].unique())\n",
    "    \n",
    "    for provincia in Provincias: \n",
    "        dfProvincia = dfDepartamento.iloc[list(dfDepartamento[\"provincia\"] == provincia)]\n",
    "        \n",
    "        nombreDepartamento = \"Departamento.\" + str(departamento)\n",
    "        nombreProvincia = \"Provincia.\" + str(provincia)\n",
    "        \n",
    "        Grafo.add_node(nombreProvincia, **{\"departamento\": departamento})\n",
    "        \n",
    "        Grafo.add_edge(nombreDepartamento, nombreProvincia)\n",
    "        \n",
    "        accessDistrito(dfProvincia, Grafo, provincia)"
   ]
  },
  {
   "cell_type": "code",
   "execution_count": 76,
   "metadata": {},
   "outputs": [],
   "source": [
    "def accessDepartamento(Grafo):\n",
    "    Departamentos = list(df[\"departamento\"].unique())\n",
    "    \n",
    "    for departamento in Departamentos:\n",
    "        dfDepartamento = df.iloc[list(df[\"departamento\"] == departamento)]\n",
    "        nombreDepartamento = \"Departamento.\" + str(departamento)\n",
    "        \n",
    "        Grafo.add_node(nombreDepartamento)\n",
    "        \n",
    "        Grafo.add_edge(nombrePais, nombreDepartamento)\n",
    "        \n",
    "        accessProvincia(dfDepartamento, Grafo, departamento)"
   ]
  },
  {
   "cell_type": "code",
   "execution_count": 77,
   "metadata": {},
   "outputs": [],
   "source": [
    "def loadGraph(Grafo):\n",
    "    Grafo.add_node(nombrePais)\n",
    "    \n",
    "    accessDepartamento(Grafo)"
   ]
  },
  {
   "cell_type": "code",
   "execution_count": 78,
   "metadata": {},
   "outputs": [],
   "source": [
    "import networkx as nx\n",
    "\n",
    "Grafo = nx.Graph()\n",
    "loadGraph(Grafo)\n",
    "\n",
    "nx.write_graphml(Grafo, \"GrafoTest.graphml\")\n",
    "nx.write_gexf(Grafo, \"Grafo.gexf\")\n"
   ]
  }
 ],
 "metadata": {
  "kernelspec": {
   "display_name": "CA-2",
   "language": "python",
   "name": "python3"
  },
  "language_info": {
   "codemirror_mode": {
    "name": "ipython",
    "version": 3
   },
   "file_extension": ".py",
   "mimetype": "text/x-python",
   "name": "python",
   "nbconvert_exporter": "python",
   "pygments_lexer": "ipython3",
   "version": "3.11.5"
  }
 },
 "nbformat": 4,
 "nbformat_minor": 2
}
