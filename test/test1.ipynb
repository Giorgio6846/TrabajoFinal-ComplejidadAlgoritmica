{
 "cells": [
  {
   "cell_type": "code",
   "execution_count": 1,
   "metadata": {},
   "outputs": [
    {
     "data": {
      "text/plain": [
       "[]"
      ]
     },
     "execution_count": 1,
     "metadata": {},
     "output_type": "execute_result"
    }
   ],
   "source": [
    "rutaArchivo = \"..\\TrabajoFinal\\Assets\\Peru.xml\"\n",
    "\n",
    "from lxml import etree\n",
    "with open(rutaArchivo) as fd:\n",
    "    doc = etree.parse(fd)\n",
    "\n",
    "matches = doc.xpath('//svg[@id=\"Mapa\"]')\n",
    "matches"
   ]
  },
  {
   "cell_type": "code",
   "execution_count": 5,
   "metadata": {},
   "outputs": [
    {
     "data": {
      "text/plain": [
       "'{http://www.w3.org/2000/svg}svg'"
      ]
     },
     "execution_count": 5,
     "metadata": {},
     "output_type": "execute_result"
    }
   ],
   "source": [
    "root.tag"
   ]
  },
  {
   "cell_type": "code",
   "execution_count": 22,
   "metadata": {},
   "outputs": [
    {
     "name": "stdout",
     "output_type": "stream",
     "text": [
      "{'id': 'defs348'}\n",
      "{'id': 'namedview348', 'pagecolor': '#505050', 'bordercolor': '#eeeeee', 'borderopacity': '1', '{http://www.inkscape.org/namespaces/inkscape}showpageshadow': '0', '{http://www.inkscape.org/namespaces/inkscape}pageopacity': '0', '{http://www.inkscape.org/namespaces/inkscape}pagecheckerboard': '0', '{http://www.inkscape.org/namespaces/inkscape}deskcolor': '#505050', '{http://www.inkscape.org/namespaces/inkscape}zoom': '0.16985897', '{http://www.inkscape.org/namespaces/inkscape}cx': '6967.5449', '{http://www.inkscape.org/namespaces/inkscape}cy': '6696.732', '{http://www.inkscape.org/namespaces/inkscape}window-width': '2560', '{http://www.inkscape.org/namespaces/inkscape}window-height': '1369', '{http://www.inkscape.org/namespaces/inkscape}window-x': '-8', '{http://www.inkscape.org/namespaces/inkscape}window-y': '-8', '{http://www.inkscape.org/namespaces/inkscape}window-maximized': '1', '{http://www.inkscape.org/namespaces/inkscape}current-layer': 'g30'}\n",
      "{'type': 'text/css', 'id': 'style1'}\n",
      "{'id': 'Mapa'}\n",
      "{'id': 'Detalle_1_'}\n",
      "{'id': 'Señalización'}\n",
      "{'id': 'Región_nombre', '{http://www.inkscape.org/namespaces/inkscape}label': 'Región_nombre'}\n",
      "{'id': 'Capital'}\n"
     ]
    }
   ],
   "source": [
    "for child in root:\n",
    "    print(child.attrib)\n",
    "    "
   ]
  },
  {
   "cell_type": "code",
   "execution_count": 21,
   "metadata": {},
   "outputs": [],
   "source": [
    "for id in root.findall('id'):\n",
    "    id.get('id')"
   ]
  },
  {
   "cell_type": "code",
   "execution_count": null,
   "metadata": {},
   "outputs": [],
   "source": []
  }
 ],
 "metadata": {
  "kernelspec": {
   "display_name": "baseUpdated",
   "language": "python",
   "name": "python3"
  },
  "language_info": {
   "codemirror_mode": {
    "name": "ipython",
    "version": 3
   },
   "file_extension": ".py",
   "mimetype": "text/x-python",
   "name": "python",
   "nbconvert_exporter": "python",
   "pygments_lexer": "ipython3",
   "version": "3.11.5"
  }
 },
 "nbformat": 4,
 "nbformat_minor": 2
}
