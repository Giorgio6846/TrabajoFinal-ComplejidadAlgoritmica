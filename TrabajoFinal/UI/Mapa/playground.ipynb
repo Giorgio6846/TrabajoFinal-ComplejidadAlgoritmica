{
 "cells": [
  {
   "cell_type": "code",
   "execution_count": 8,
   "metadata": {},
   "outputs": [
    {
     "name": "stdout",
     "output_type": "stream",
     "text": [
      "{'Nombre': 'Amazonas', 'id': 'polygon22', 'color': ''}\n",
      "Amazonas\n",
      "{'Nombre': 'Ancash', 'id': 'path20', 'color': ''}\n",
      "Ancash\n",
      "{'Nombre': 'Apurimac', 'id': 'polygon10', 'color': ''}\n",
      "Apurimac\n",
      "{'Nombre': 'Arequipa', 'id': 'path9', 'color': ''}\n",
      "Arequipa\n",
      "{'Nombre': 'Ayacucho', 'id': 'path10', 'color': ''}\n",
      "Ayacucho\n",
      "{'Nombre': 'Cajamarca', 'id': 'path24', 'color': ''}\n",
      "Cajamarca\n",
      "{'Nombre': 'Cusco', 'id': 'path8', 'color': ''}\n",
      "Cusco\n",
      "{'Nombre': 'Huancavelica', 'id': 'polygon13', 'color': ''}\n",
      "Huancavelica\n",
      "{'Nombre': 'Huanuco', 'id': 'path13', 'color': ''}\n",
      "Huanuco\n",
      "{'Nombre': 'Ica', 'id': 'polygon14', 'color': ''}\n",
      "Ica\n",
      "{'Nombre': 'Junin', 'id': 'polygon11', 'color': ''}\n",
      "Junin\n",
      "{'Nombre': 'La libertad', 'id': 'polygon21', 'color': ''}\n",
      "La libertad\n",
      "{'Nombre': 'Lambayeque', 'id': 'polygon26', 'color': ''}\n",
      "Lambayeque\n",
      "{'Nombre': 'Lima', 'id': 'polygon16', 'color': ''}\n",
      "Lima\n",
      "{'Nombre': 'Loreto', 'id': 'path7', 'color': ''}\n",
      "Loreto\n",
      "{'Nombre': 'Madre de dios', 'id': 'path1', 'color': ''}\n",
      "Madre de dios\n",
      "{'Nombre': 'Moquegua', 'id': 'polygon8', 'color': ''}\n",
      "Moquegua\n",
      "{'Nombre': 'Pasco', 'id': 'polygon12', 'color': ''}\n",
      "Pasco\n",
      "{'Nombre': 'Piura', 'id': 'polygon27', 'color': ''}\n",
      "Piura\n",
      "{'Nombre': 'Puno', 'id': 'path2', 'color': ''}\n",
      "Puno\n",
      "{'Nombre': 'San Martin', 'id': 'polygon15', 'color': ''}\n",
      "San Martin\n",
      "{'Nombre': 'Tacna', 'id': 'polygon2', 'color': ''}\n",
      "Tacna\n",
      "{'Nombre': 'Tumbes', 'id': 'polygon2', 'color': ''}\n",
      "Tumbes\n",
      "{'Nombre': 'Ucayali', 'id': 'polygon9', 'color': ''}\n",
      "Ucayali\n",
      "{'Nombre': 'Provincia de Lima', 'id': 'path73', 'color': ''}\n",
      "Provincia de Lima\n",
      "{'Nombre': 'Callao', 'id': ['polygon73', 'path74'], 'color': ''}\n",
      "Callao\n"
     ]
    }
   ],
   "source": [
    "import json\n",
    "import os\n",
    "\n",
    "rutaArchivo = \"c:\\\\Users\\\\Giorgio Mancusi\\\\OneDrive - Universidad Peruana de Ciencias\\\\Grupo 5 - Complejidad Algoritmica\\\\Github\\\\TrabajoFinal-ComplejidadAlgoritmica\\\\TrabajoFinal\\\\Assets\\\\\"\n",
    "\n",
    "\n",
    "f = open(rutaArchivo + \"Lugares.json\")\n",
    "data = json.load(f)\n",
    "\n",
    "for i in data[\"Lugares\"]:\n",
    "    print(i)"
   ]
  }
 ],
 "metadata": {
  "kernelspec": {
   "display_name": "baseUpdated",
   "language": "python",
   "name": "python3"
  },
  "language_info": {
   "codemirror_mode": {
    "name": "ipython",
    "version": 3
   },
   "file_extension": ".py",
   "mimetype": "text/x-python",
   "name": "python",
   "nbconvert_exporter": "python",
   "pygments_lexer": "ipython3",
   "version": "3.11.5"
  }
 },
 "nbformat": 4,
 "nbformat_minor": 2
}
